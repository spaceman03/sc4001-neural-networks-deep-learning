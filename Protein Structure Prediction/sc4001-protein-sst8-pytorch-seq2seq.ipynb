{
 "cells": [
  {
   "cell_type": "markdown",
   "id": "6f7562df",
   "metadata": {
    "id": "4d7545c1-a18d-410c-8460-025749d53fe4"
   },
   "source": [
    "# Introduction"
   ]
  },
  {
   "cell_type": "markdown",
   "id": "a791e58b",
   "metadata": {
    "id": "797e2c9d-7c3c-4a9d-afb6-994b5dd11ef4"
   },
   "source": [
    "Proteins are like the \"programs\" that run biological processes in living organisms. Their ability to function depends on how their \"code\" (the sequence of amino acids) folds into a specific 3D structure. Protein Secondary Structure Prediction (PSSP) involves predicting the local structural elements (like helices, strands, and loops) of a protein based on its primary amino acid sequence. Traditionally, techniques like X-ray crystallography or NMR are used to solve the protein’s 3D structure, and from this, tools like DSSP assign secondary structure elements. However, these experimental methods are costly and timeconsuming.   \n",
    "\n",
    "The goal of this assignment is to predict the secondary structure (sst3 and sst8 values) from just the primary sequence (seq) using deep learning techniques, which can significantly reduce the need for expensive lab work. In this task, secondary structure can be classified into eight categories (Q8) or simplified into three states (Q3), which offers different levels of granularity in prediction.   \n",
    "\n",
    "**Interesting projects could involve:**\n",
    "1. Developing deep learning techniques (such as RNNs, CNNs, or transformers) to predict the Q3 and Q8 secondary structures from the protein sequence. This will test your model's ability to handle both short- and long-range dependencies in the amino acid sequence.\n",
    "2. Creating models that focus on improving Q3 and Q8 prediction by exploring novel architectures or feature representations.epresentations."
   ]
  },
  {
   "cell_type": "markdown",
   "id": "1dc27ae5-228d-400b-8ae9-2c041b361249",
   "metadata": {},
   "source": [
    "# Import Essential Libraries"
   ]
  },
  {
   "cell_type": "code",
   "execution_count": 1,
   "id": "c3f2bf5d",
   "metadata": {
    "execution": {
     "iopub.execute_input": "2024-11-02T15:44:44.634452Z",
     "iopub.status.busy": "2024-11-02T15:44:44.634043Z",
     "iopub.status.idle": "2024-11-02T15:44:50.252012Z",
     "shell.execute_reply": "2024-11-02T15:44:50.251117Z",
     "shell.execute_reply.started": "2024-11-02T15:44:44.634407Z"
    },
    "id": "db253b80-4e40-46ea-89c4-986e1278f5b5"
   },
   "outputs": [],
   "source": [
    "import numpy as np\n",
    "import pandas as pd\n",
    "import matplotlib.pyplot as plt\n",
    "\n",
    "import torch\n",
    "import torch.nn as nn\n",
    "import torch.optim as optim\n",
    "\n",
    "from torch.utils.data import DataLoader, Dataset\n",
    "from sklearn.model_selection import train_test_split\n",
    "from sklearn.preprocessing import OneHotEncoder\n",
    "from keras.preprocessing.sequence import pad_sequences\n",
    "from keras.utils import to_categorical, Sequence"
   ]
  },
  {
   "cell_type": "markdown",
   "id": "bdb3bed4-f115-4525-9425-282b32b79d3c",
   "metadata": {},
   "source": [
    "# Load and Explore the Dataset"
   ]
  },
  {
   "cell_type": "markdown",
   "id": "a14960f6-bded-40d1-ac3b-83a61159f1f8",
   "metadata": {},
   "source": [
    "We start by loading the dataset from a CSV file and examining its structure."
   ]
  },
  {
   "cell_type": "code",
   "execution_count": 2,
   "id": "48bc0d5f",
   "metadata": {
    "colab": {
     "base_uri": "https://localhost:8080/",
     "height": 461
    },
    "execution": {
     "iopub.execute_input": "2024-11-02T15:44:50.258214Z",
     "iopub.status.busy": "2024-11-02T15:44:50.257923Z",
     "iopub.status.idle": "2024-11-02T15:44:50.369754Z",
     "shell.execute_reply": "2024-11-02T15:44:50.368717Z",
     "shell.execute_reply.started": "2024-11-02T15:44:50.258180Z"
    },
    "id": "ee64ff9f-9967-4200-b9a7-aab49a9383ea",
    "outputId": "e6f2dfd5-bc0e-402b-dcf7-56690ce66386"
   },
   "outputs": [
    {
     "data": {
      "text/html": [
       "<div>\n",
       "<style scoped>\n",
       "    .dataframe tbody tr th:only-of-type {\n",
       "        vertical-align: middle;\n",
       "    }\n",
       "\n",
       "    .dataframe tbody tr th {\n",
       "        vertical-align: top;\n",
       "    }\n",
       "\n",
       "    .dataframe thead th {\n",
       "        text-align: right;\n",
       "    }\n",
       "</style>\n",
       "<table border=\"1\" class=\"dataframe\">\n",
       "  <thead>\n",
       "    <tr style=\"text-align: right;\">\n",
       "      <th></th>\n",
       "      <th>pdb_id</th>\n",
       "      <th>chain_code</th>\n",
       "      <th>seq</th>\n",
       "      <th>sst8</th>\n",
       "      <th>sst3</th>\n",
       "      <th>len</th>\n",
       "      <th>has_nonstd_aa</th>\n",
       "      <th>Exptl.</th>\n",
       "      <th>resolution</th>\n",
       "      <th>R-factor</th>\n",
       "      <th>FreeRvalue</th>\n",
       "    </tr>\n",
       "  </thead>\n",
       "  <tbody>\n",
       "    <tr>\n",
       "      <th>0</th>\n",
       "      <td>1FV1</td>\n",
       "      <td>F</td>\n",
       "      <td>NPVVHFFKNIVTPRTPPPSQ</td>\n",
       "      <td>CCCCCBCCCCCCCCCCCCCC</td>\n",
       "      <td>CCCCCECCCCCCCCCCCCCC</td>\n",
       "      <td>20</td>\n",
       "      <td>False</td>\n",
       "      <td>XRAY</td>\n",
       "      <td>1.90</td>\n",
       "      <td>0.23</td>\n",
       "      <td>0.27</td>\n",
       "    </tr>\n",
       "    <tr>\n",
       "      <th>1</th>\n",
       "      <td>1LM8</td>\n",
       "      <td>H</td>\n",
       "      <td>DLDLEMLAPYIPMDDDFQLR</td>\n",
       "      <td>CCCCCCCCCBCCSCCCEECC</td>\n",
       "      <td>CCCCCCCCCECCCCCCEECC</td>\n",
       "      <td>20</td>\n",
       "      <td>False</td>\n",
       "      <td>XRAY</td>\n",
       "      <td>1.85</td>\n",
       "      <td>0.20</td>\n",
       "      <td>0.24</td>\n",
       "    </tr>\n",
       "    <tr>\n",
       "      <th>2</th>\n",
       "      <td>1O06</td>\n",
       "      <td>A</td>\n",
       "      <td>EEDPDLKAAIQESLREAEEA</td>\n",
       "      <td>CCCHHHHHHHHHHHHHHHTC</td>\n",
       "      <td>CCCHHHHHHHHHHHHHHHCC</td>\n",
       "      <td>20</td>\n",
       "      <td>False</td>\n",
       "      <td>XRAY</td>\n",
       "      <td>1.45</td>\n",
       "      <td>0.19</td>\n",
       "      <td>0.22</td>\n",
       "    </tr>\n",
       "    <tr>\n",
       "      <th>3</th>\n",
       "      <td>1QOW</td>\n",
       "      <td>D</td>\n",
       "      <td>CTFTLPGGGGVCTLTSECI*</td>\n",
       "      <td>CCTTSCTTCSSTTSSTTCCC</td>\n",
       "      <td>CCCCCCCCCCCCCCCCCCCC</td>\n",
       "      <td>20</td>\n",
       "      <td>True</td>\n",
       "      <td>XRAY</td>\n",
       "      <td>1.06</td>\n",
       "      <td>0.14</td>\n",
       "      <td>1.00</td>\n",
       "    </tr>\n",
       "    <tr>\n",
       "      <th>4</th>\n",
       "      <td>1RDQ</td>\n",
       "      <td>I</td>\n",
       "      <td>TTYADFIASGRTGRRNAIHD</td>\n",
       "      <td>CHHHHHHTSSCSSCCCCEEC</td>\n",
       "      <td>CHHHHHHCCCCCCCCCCEEC</td>\n",
       "      <td>20</td>\n",
       "      <td>False</td>\n",
       "      <td>XRAY</td>\n",
       "      <td>1.26</td>\n",
       "      <td>0.13</td>\n",
       "      <td>0.16</td>\n",
       "    </tr>\n",
       "    <tr>\n",
       "      <th>...</th>\n",
       "      <td>...</td>\n",
       "      <td>...</td>\n",
       "      <td>...</td>\n",
       "      <td>...</td>\n",
       "      <td>...</td>\n",
       "      <td>...</td>\n",
       "      <td>...</td>\n",
       "      <td>...</td>\n",
       "      <td>...</td>\n",
       "      <td>...</td>\n",
       "      <td>...</td>\n",
       "    </tr>\n",
       "    <tr>\n",
       "      <th>9073</th>\n",
       "      <td>4LGY</td>\n",
       "      <td>A</td>\n",
       "      <td>GDGLVPRGSHMMEILRGSPALSAFRINKLLARFQAANLQVHNIYAE...</td>\n",
       "      <td>CCEEEEETTEEEEEEEEEECCCHHHHHHHHHHHHHTTCCCCEEEEE...</td>\n",
       "      <td>CCEEEEECCEEEEEEEEEECCCHHHHHHHHHHHHHCCCCCCEEEEE...</td>\n",
       "      <td>1305</td>\n",
       "      <td>False</td>\n",
       "      <td>XRAY</td>\n",
       "      <td>1.48</td>\n",
       "      <td>0.14</td>\n",
       "      <td>0.17</td>\n",
       "    </tr>\n",
       "    <tr>\n",
       "      <th>9074</th>\n",
       "      <td>5XH6</td>\n",
       "      <td>A</td>\n",
       "      <td>GSHMTQFEGFTNLYQVSKTLRFELIPQGKTLKHIQEQGFIEEDKAR...</td>\n",
       "      <td>CCCCCCGGGCBSSSCEEEEEEEEEEECTTHHHHHHHHTHHHHHHHH...</td>\n",
       "      <td>CCCCCCHHHCECCCCEEEEEEEEEEECCCHHHHHHHHCHHHHHHHH...</td>\n",
       "      <td>1310</td>\n",
       "      <td>False</td>\n",
       "      <td>XRAY</td>\n",
       "      <td>2.00</td>\n",
       "      <td>0.18</td>\n",
       "      <td>0.21</td>\n",
       "    </tr>\n",
       "    <tr>\n",
       "      <th>9075</th>\n",
       "      <td>5B2R</td>\n",
       "      <td>B</td>\n",
       "      <td>GSGHMDKKYSIGLAIGTNSVGWAVITDEYKVPSKKFKVLGNTDRHS...</td>\n",
       "      <td>CCCCCCCCCEEEEEECSSEEEEEEECTTSCCCEEEEEEEESSSCCE...</td>\n",
       "      <td>CCCCCCCCCEEEEEECCCEEEEEEECCCCCCCEEEEEEEECCCCCE...</td>\n",
       "      <td>1372</td>\n",
       "      <td>False</td>\n",
       "      <td>XRAY</td>\n",
       "      <td>2.00</td>\n",
       "      <td>0.20</td>\n",
       "      <td>0.23</td>\n",
       "    </tr>\n",
       "    <tr>\n",
       "      <th>9076</th>\n",
       "      <td>5WLH</td>\n",
       "      <td>A</td>\n",
       "      <td>SNAMKISKVREENRGAKLTVNAKTAVVSENRSQEGILYNDPSRYGK...</td>\n",
       "      <td>CCCCCCCCCCCCCCCCCTTSSEEEEEEESSSCEEEEEEESSCCTTT...</td>\n",
       "      <td>CCCCCCCCCCCCCCCCCCCCCEEEEEEECCCCEEEEEEECCCCCCC...</td>\n",
       "      <td>1440</td>\n",
       "      <td>False</td>\n",
       "      <td>XRAY</td>\n",
       "      <td>1.80</td>\n",
       "      <td>0.19</td>\n",
       "      <td>0.22</td>\n",
       "    </tr>\n",
       "    <tr>\n",
       "      <th>9077</th>\n",
       "      <td>5B2P</td>\n",
       "      <td>A</td>\n",
       "      <td>GSHMNFKILPIAIDLGVKNTGVFSAFYQKGTSLERLDNKNGKVYEL...</td>\n",
       "      <td>CCCCCEEECCEEEEECSSEEEEEEECEETTEEGGGCCCEEEEEEEE...</td>\n",
       "      <td>CCCCCEEECCEEEEECCCEEEEEEECEECCEEHHHCCCEEEEEEEE...</td>\n",
       "      <td>1632</td>\n",
       "      <td>False</td>\n",
       "      <td>XRAY</td>\n",
       "      <td>1.70</td>\n",
       "      <td>0.18</td>\n",
       "      <td>0.20</td>\n",
       "    </tr>\n",
       "  </tbody>\n",
       "</table>\n",
       "<p>9078 rows × 11 columns</p>\n",
       "</div>"
      ],
      "text/plain": [
       "     pdb_id chain_code                                                seq  \\\n",
       "0      1FV1          F                               NPVVHFFKNIVTPRTPPPSQ   \n",
       "1      1LM8          H                               DLDLEMLAPYIPMDDDFQLR   \n",
       "2      1O06          A                               EEDPDLKAAIQESLREAEEA   \n",
       "3      1QOW          D                               CTFTLPGGGGVCTLTSECI*   \n",
       "4      1RDQ          I                               TTYADFIASGRTGRRNAIHD   \n",
       "...     ...        ...                                                ...   \n",
       "9073   4LGY          A  GDGLVPRGSHMMEILRGSPALSAFRINKLLARFQAANLQVHNIYAE...   \n",
       "9074   5XH6          A  GSHMTQFEGFTNLYQVSKTLRFELIPQGKTLKHIQEQGFIEEDKAR...   \n",
       "9075   5B2R          B  GSGHMDKKYSIGLAIGTNSVGWAVITDEYKVPSKKFKVLGNTDRHS...   \n",
       "9076   5WLH          A  SNAMKISKVREENRGAKLTVNAKTAVVSENRSQEGILYNDPSRYGK...   \n",
       "9077   5B2P          A  GSHMNFKILPIAIDLGVKNTGVFSAFYQKGTSLERLDNKNGKVYEL...   \n",
       "\n",
       "                                                   sst8  \\\n",
       "0                                  CCCCCBCCCCCCCCCCCCCC   \n",
       "1                                  CCCCCCCCCBCCSCCCEECC   \n",
       "2                                  CCCHHHHHHHHHHHHHHHTC   \n",
       "3                                  CCTTSCTTCSSTTSSTTCCC   \n",
       "4                                  CHHHHHHTSSCSSCCCCEEC   \n",
       "...                                                 ...   \n",
       "9073  CCEEEEETTEEEEEEEEEECCCHHHHHHHHHHHHHTTCCCCEEEEE...   \n",
       "9074  CCCCCCGGGCBSSSCEEEEEEEEEEECTTHHHHHHHHTHHHHHHHH...   \n",
       "9075  CCCCCCCCCEEEEEECSSEEEEEEECTTSCCCEEEEEEEESSSCCE...   \n",
       "9076  CCCCCCCCCCCCCCCCCTTSSEEEEEEESSSCEEEEEEESSCCTTT...   \n",
       "9077  CCCCCEEECCEEEEECSSEEEEEEECEETTEEGGGCCCEEEEEEEE...   \n",
       "\n",
       "                                                   sst3   len  has_nonstd_aa  \\\n",
       "0                                  CCCCCECCCCCCCCCCCCCC    20          False   \n",
       "1                                  CCCCCCCCCECCCCCCEECC    20          False   \n",
       "2                                  CCCHHHHHHHHHHHHHHHCC    20          False   \n",
       "3                                  CCCCCCCCCCCCCCCCCCCC    20           True   \n",
       "4                                  CHHHHHHCCCCCCCCCCEEC    20          False   \n",
       "...                                                 ...   ...            ...   \n",
       "9073  CCEEEEECCEEEEEEEEEECCCHHHHHHHHHHHHHCCCCCCEEEEE...  1305          False   \n",
       "9074  CCCCCCHHHCECCCCEEEEEEEEEEECCCHHHHHHHHCHHHHHHHH...  1310          False   \n",
       "9075  CCCCCCCCCEEEEEECCCEEEEEEECCCCCCCEEEEEEEECCCCCE...  1372          False   \n",
       "9076  CCCCCCCCCCCCCCCCCCCCCEEEEEEECCCCEEEEEEECCCCCCC...  1440          False   \n",
       "9077  CCCCCEEECCEEEEECCCEEEEEEECEECCEEHHHCCCEEEEEEEE...  1632          False   \n",
       "\n",
       "     Exptl.  resolution  R-factor  FreeRvalue  \n",
       "0      XRAY        1.90      0.23        0.27  \n",
       "1      XRAY        1.85      0.20        0.24  \n",
       "2      XRAY        1.45      0.19        0.22  \n",
       "3      XRAY        1.06      0.14        1.00  \n",
       "4      XRAY        1.26      0.13        0.16  \n",
       "...     ...         ...       ...         ...  \n",
       "9073   XRAY        1.48      0.14        0.17  \n",
       "9074   XRAY        2.00      0.18        0.21  \n",
       "9075   XRAY        2.00      0.20        0.23  \n",
       "9076   XRAY        1.80      0.19        0.22  \n",
       "9077   XRAY        1.70      0.18        0.20  \n",
       "\n",
       "[9078 rows x 11 columns]"
      ]
     },
     "execution_count": 2,
     "metadata": {},
     "output_type": "execute_result"
    }
   ],
   "source": [
    "# Load the dataset from a CSV file\n",
    "df = pd.read_csv('/kaggle/input/protein-structure/2018-06-06-pdb-intersect-pisces.csv')\n",
    "df"
   ]
  },
  {
   "cell_type": "code",
   "execution_count": 3,
   "id": "2963d889",
   "metadata": {
    "colab": {
     "base_uri": "https://localhost:8080/"
    },
    "execution": {
     "iopub.execute_input": "2024-11-02T15:44:50.371195Z",
     "iopub.status.busy": "2024-11-02T15:44:50.370902Z",
     "iopub.status.idle": "2024-11-02T15:44:50.389803Z",
     "shell.execute_reply": "2024-11-02T15:44:50.388531Z",
     "shell.execute_reply.started": "2024-11-02T15:44:50.371162Z"
    },
    "id": "ff1f9ba4-4e22-4662-9125-67c1037b744d",
    "outputId": "679b3df2-1843-4fa2-c8d8-1fdc271aad7d"
   },
   "outputs": [
    {
     "name": "stdout",
     "output_type": "stream",
     "text": [
      "<class 'pandas.core.frame.DataFrame'>\n",
      "RangeIndex: 9078 entries, 0 to 9077\n",
      "Data columns (total 11 columns):\n",
      " #   Column         Non-Null Count  Dtype  \n",
      "---  ------         --------------  -----  \n",
      " 0   pdb_id         9078 non-null   object \n",
      " 1   chain_code     9078 non-null   object \n",
      " 2   seq            9078 non-null   object \n",
      " 3   sst8           9078 non-null   object \n",
      " 4   sst3           9078 non-null   object \n",
      " 5   len            9078 non-null   int64  \n",
      " 6   has_nonstd_aa  9078 non-null   bool   \n",
      " 7   Exptl.         9078 non-null   object \n",
      " 8   resolution     9078 non-null   float64\n",
      " 9   R-factor       9078 non-null   float64\n",
      " 10  FreeRvalue     9078 non-null   float64\n",
      "dtypes: bool(1), float64(3), int64(1), object(6)\n",
      "memory usage: 718.2+ KB\n"
     ]
    }
   ],
   "source": [
    "df.info()"
   ]
  },
  {
   "cell_type": "markdown",
   "id": "bd396a1f",
   "metadata": {
    "id": "56696e42-4ee9-4595-8cb0-eede99207018"
   },
   "source": [
    "# Data Preprocessing"
   ]
  },
  {
   "cell_type": "markdown",
   "id": "bb3d83e1-0eb1-4384-8d3e-42c92934805c",
   "metadata": {},
   "source": [
    "There are 3 main steps for the data preprocessing:\n",
    "1. **Remove duplicates**: Filter unique sequence and structure pairs.\n",
    "2. **Tokenize sequences**: Convert amino acid sequences and secondary structure sequences to numerical indices.\n",
    "3. **Padding and one-hot encoding**: Pad sequences to a uniform length and convert to one-hot encoded format for model input."
   ]
  },
  {
   "cell_type": "code",
   "execution_count": 4,
   "id": "979183f4",
   "metadata": {
    "execution": {
     "iopub.execute_input": "2024-11-02T15:44:50.392961Z",
     "iopub.status.busy": "2024-11-02T15:44:50.392627Z",
     "iopub.status.idle": "2024-11-02T15:44:50.407328Z",
     "shell.execute_reply": "2024-11-02T15:44:50.406429Z",
     "shell.execute_reply.started": "2024-11-02T15:44:50.392916Z"
    }
   },
   "outputs": [
    {
     "data": {
      "text/plain": [
       "1632"
      ]
     },
     "execution_count": 4,
     "metadata": {},
     "output_type": "execute_result"
    }
   ],
   "source": [
    "# Check the maximum sequence length\n",
    "df['seq'].apply(len).max()"
   ]
  },
  {
   "cell_type": "code",
   "execution_count": 5,
   "id": "be232389",
   "metadata": {
    "colab": {
     "base_uri": "https://localhost:8080/"
    },
    "execution": {
     "iopub.execute_input": "2024-11-02T15:44:50.408827Z",
     "iopub.status.busy": "2024-11-02T15:44:50.408495Z",
     "iopub.status.idle": "2024-11-02T15:44:50.430248Z",
     "shell.execute_reply": "2024-11-02T15:44:50.429371Z",
     "shell.execute_reply.started": "2024-11-02T15:44:50.408792Z"
    },
    "id": "HjctVA51QQ6B",
    "outputId": "5f42bb95-8a94-4e1d-8cd1-73a4fc10c91a"
   },
   "outputs": [
    {
     "name": "stdout",
     "output_type": "stream",
     "text": [
      "There are 9078 unique seq / sst8 pairs.\n"
     ]
    }
   ],
   "source": [
    "# Remove duplicated rows for unique sequence/structure pairs\n",
    "df = df.loc[:,['seq','sst8']].drop_duplicates() # Remove duplicated rows\n",
    "print('There are {} unique seq / sst8 pairs.'.format(df.shape[0]))"
   ]
  },
  {
   "cell_type": "code",
   "execution_count": 6,
   "id": "8d16ace1",
   "metadata": {
    "execution": {
     "iopub.execute_input": "2024-11-02T15:44:50.431737Z",
     "iopub.status.busy": "2024-11-02T15:44:50.431390Z",
     "iopub.status.idle": "2024-11-02T15:44:50.436183Z",
     "shell.execute_reply": "2024-11-02T15:44:50.435353Z",
     "shell.execute_reply.started": "2024-11-02T15:44:50.431703Z"
    },
    "id": "02f1e2f6-d4b2-435f-8518-d3128fa9bc75"
   },
   "outputs": [],
   "source": [
    "# Extract sequences and secondary structures as arrays\n",
    "seqs = df['seq'].values\n",
    "target_sst8 = df['sst8'].values"
   ]
  },
  {
   "cell_type": "code",
   "execution_count": 7,
   "id": "5bb87e15",
   "metadata": {
    "execution": {
     "iopub.execute_input": "2024-11-02T15:44:50.438076Z",
     "iopub.status.busy": "2024-11-02T15:44:50.437447Z",
     "iopub.status.idle": "2024-11-02T15:44:50.479593Z",
     "shell.execute_reply": "2024-11-02T15:44:50.478676Z",
     "shell.execute_reply.started": "2024-11-02T15:44:50.438032Z"
    },
    "id": "73c79a8d-7081-46e0-93e3-92c4b0311414"
   },
   "outputs": [],
   "source": [
    "# Tokenize the primary amino acid sequences\n",
    "amino_acids = set(''.join(seqs))  # Set of all amino acids\n",
    "aa_to_idx = {aa: idx+1 for idx, aa in enumerate(sorted(amino_acids))}\n",
    "aa_to_idx['<PAD>'] = 0  # Padding token\n",
    "padding_index = 0"
   ]
  },
  {
   "cell_type": "code",
   "execution_count": 8,
   "id": "28d94a97",
   "metadata": {
    "colab": {
     "base_uri": "https://localhost:8080/"
    },
    "execution": {
     "iopub.execute_input": "2024-11-02T15:44:50.481078Z",
     "iopub.status.busy": "2024-11-02T15:44:50.480745Z",
     "iopub.status.idle": "2024-11-02T15:44:50.491539Z",
     "shell.execute_reply": "2024-11-02T15:44:50.490680Z",
     "shell.execute_reply.started": "2024-11-02T15:44:50.481046Z"
    },
    "id": "bd929eb2-85a8-4bed-b2d1-47a1e50614e1",
    "outputId": "3afe099d-d5fd-4685-a5c8-46cecb230952"
   },
   "outputs": [
    {
     "data": {
      "text/plain": [
       "{'*': 1,\n",
       " 'A': 2,\n",
       " 'C': 3,\n",
       " 'D': 4,\n",
       " 'E': 5,\n",
       " 'F': 6,\n",
       " 'G': 7,\n",
       " 'H': 8,\n",
       " 'I': 9,\n",
       " 'K': 10,\n",
       " 'L': 11,\n",
       " 'M': 12,\n",
       " 'N': 13,\n",
       " 'P': 14,\n",
       " 'Q': 15,\n",
       " 'R': 16,\n",
       " 'S': 17,\n",
       " 'T': 18,\n",
       " 'V': 19,\n",
       " 'W': 20,\n",
       " 'Y': 21,\n",
       " '<PAD>': 0}"
      ]
     },
     "execution_count": 8,
     "metadata": {},
     "output_type": "execute_result"
    }
   ],
   "source": [
    "aa_to_idx"
   ]
  },
  {
   "cell_type": "markdown",
   "id": "db5930a1",
   "metadata": {
    "id": "dfc9fcad-46d3-4d2b-9d4a-bbb12e0b56a8"
   },
   "source": [
    "All nonstandard amino acids, which includes B, O, U, X, and Z are masked with \"*\" character."
   ]
  },
  {
   "cell_type": "code",
   "execution_count": 9,
   "id": "dccb69eb",
   "metadata": {
    "colab": {
     "base_uri": "https://localhost:8080/"
    },
    "execution": {
     "iopub.execute_input": "2024-11-02T15:44:50.493015Z",
     "iopub.status.busy": "2024-11-02T15:44:50.492627Z",
     "iopub.status.idle": "2024-11-02T15:44:50.503825Z",
     "shell.execute_reply": "2024-11-02T15:44:50.502703Z",
     "shell.execute_reply.started": "2024-11-02T15:44:50.492964Z"
    },
    "id": "fbd2b071-eb68-4270-bce8-a5d54d22a40b",
    "outputId": "a96fa78c-f0b8-4450-f4b6-bf4fb3052d50"
   },
   "outputs": [
    {
     "data": {
      "text/plain": [
       "22"
      ]
     },
     "execution_count": 9,
     "metadata": {},
     "output_type": "execute_result"
    }
   ],
   "source": [
    "len(aa_to_idx)"
   ]
  },
  {
   "cell_type": "code",
   "execution_count": 10,
   "id": "fc904f4f",
   "metadata": {
    "execution": {
     "iopub.execute_input": "2024-11-02T15:44:50.505646Z",
     "iopub.status.busy": "2024-11-02T15:44:50.505212Z",
     "iopub.status.idle": "2024-11-02T15:44:50.511718Z",
     "shell.execute_reply": "2024-11-02T15:44:50.510783Z",
     "shell.execute_reply.started": "2024-11-02T15:44:50.505599Z"
    },
    "id": "fb804c05-88d3-4911-80a6-0135d60d4910"
   },
   "outputs": [],
   "source": [
    "# Function to encode input sequences as indices\n",
    "def encode_sequence(input, input_to_idx):\n",
    "    return [input_to_idx[aa] for aa in input]"
   ]
  },
  {
   "cell_type": "code",
   "execution_count": 11,
   "id": "ed8080c4",
   "metadata": {
    "execution": {
     "iopub.execute_input": "2024-11-02T15:44:50.513449Z",
     "iopub.status.busy": "2024-11-02T15:44:50.512925Z",
     "iopub.status.idle": "2024-11-02T15:44:50.705071Z",
     "shell.execute_reply": "2024-11-02T15:44:50.704297Z",
     "shell.execute_reply.started": "2024-11-02T15:44:50.513404Z"
    },
    "id": "b861b35c-b6c3-4d51-9a7e-3860db176b63"
   },
   "outputs": [],
   "source": [
    "# Encode all amino acid sequences\n",
    "encoded_seqs = [encode_sequence(seq, aa_to_idx) for seq in seqs]"
   ]
  },
  {
   "cell_type": "code",
   "execution_count": 12,
   "id": "2421770f",
   "metadata": {
    "execution": {
     "iopub.execute_input": "2024-11-02T15:44:50.706380Z",
     "iopub.status.busy": "2024-11-02T15:44:50.706099Z",
     "iopub.status.idle": "2024-11-02T15:44:50.741854Z",
     "shell.execute_reply": "2024-11-02T15:44:50.740944Z",
     "shell.execute_reply.started": "2024-11-02T15:44:50.706344Z"
    },
    "id": "43b9178f-435b-4e3a-83d8-20306505e6ab"
   },
   "outputs": [],
   "source": [
    "# Tokenize the sst8 values\n",
    "sst8_structures = set(''.join(target_sst8))\n",
    "sst8_to_idx = {ss: idx+1 for idx, ss in enumerate(sorted(sst8_structures))}\n",
    "sst8_to_idx['<PAD>'] = 0  # Padding token"
   ]
  },
  {
   "cell_type": "code",
   "execution_count": 13,
   "id": "47feec14",
   "metadata": {
    "colab": {
     "base_uri": "https://localhost:8080/"
    },
    "execution": {
     "iopub.execute_input": "2024-11-02T15:44:50.747006Z",
     "iopub.status.busy": "2024-11-02T15:44:50.746681Z",
     "iopub.status.idle": "2024-11-02T15:44:50.756194Z",
     "shell.execute_reply": "2024-11-02T15:44:50.755232Z",
     "shell.execute_reply.started": "2024-11-02T15:44:50.746957Z"
    },
    "id": "d1b2b7f2-6194-4973-9b67-8488917ea013",
    "outputId": "21cdb62f-8f29-491d-fc58-48c0ccebcde5"
   },
   "outputs": [
    {
     "data": {
      "text/plain": [
       "{'B': 1, 'C': 2, 'E': 3, 'G': 4, 'H': 5, 'I': 6, 'S': 7, 'T': 8, '<PAD>': 0}"
      ]
     },
     "execution_count": 13,
     "metadata": {},
     "output_type": "execute_result"
    }
   ],
   "source": [
    "sst8_to_idx"
   ]
  },
  {
   "cell_type": "markdown",
   "id": "d5edd409-a29a-44a3-ad94-99317948d16b",
   "metadata": {},
   "source": [
    "Now, we'll encode the amino acid and structure sequences and apply padding to make all sequences the same length."
   ]
  },
  {
   "cell_type": "code",
   "execution_count": 14,
   "id": "c9610a3a",
   "metadata": {
    "execution": {
     "iopub.execute_input": "2024-11-02T15:44:50.758290Z",
     "iopub.status.busy": "2024-11-02T15:44:50.757572Z",
     "iopub.status.idle": "2024-11-02T15:44:50.932616Z",
     "shell.execute_reply": "2024-11-02T15:44:50.931789Z",
     "shell.execute_reply.started": "2024-11-02T15:44:50.758240Z"
    },
    "id": "aba8368d-09e7-4477-a25f-23146ba7adf5"
   },
   "outputs": [],
   "source": [
    "# Encode all secondary structure sequences\n",
    "encoded_sst8 = [encode_sequence(target, sst8_to_idx) for target in target_sst8]"
   ]
  },
  {
   "cell_type": "code",
   "execution_count": 15,
   "id": "e95e72b4",
   "metadata": {
    "execution": {
     "iopub.execute_input": "2024-11-02T15:44:50.934122Z",
     "iopub.status.busy": "2024-11-02T15:44:50.933788Z",
     "iopub.status.idle": "2024-11-02T15:44:50.940389Z",
     "shell.execute_reply": "2024-11-02T15:44:50.939452Z",
     "shell.execute_reply.started": "2024-11-02T15:44:50.934088Z"
    },
    "id": "L-YbO0kqIK8x"
   },
   "outputs": [],
   "source": [
    "# Get the number of unique tokens for input and target sequences\n",
    "num_input_tokens = len(aa_to_idx)\n",
    "num_target_tokens = len(sst8_to_idx)"
   ]
  },
  {
   "cell_type": "code",
   "execution_count": 16,
   "id": "e5f4e166",
   "metadata": {
    "execution": {
     "iopub.execute_input": "2024-11-02T15:44:50.941852Z",
     "iopub.status.busy": "2024-11-02T15:44:50.941568Z",
     "iopub.status.idle": "2024-11-02T15:44:50.950073Z",
     "shell.execute_reply": "2024-11-02T15:44:50.949132Z",
     "shell.execute_reply.started": "2024-11-02T15:44:50.941822Z"
    },
    "id": "1ca3a81d-d7eb-4b32-93db-f9241dea018f"
   },
   "outputs": [],
   "source": [
    "# Function to pad and one-hot encode input sequences\n",
    "def trans_seq_in(iseq):\n",
    "    maxlen = max([len(txt) for txt in iseq]) # Get max sequence length\n",
    "    print(maxlen)\n",
    "    input_seq = pad_sequences(iseq, maxlen=maxlen, padding='post', value=0)\n",
    "    return to_categorical(input_seq,num_classes=num_input_tokens)\n",
    "\n",
    "# Function to pad and one-hot encode target sequences\n",
    "def trans_seq_out(iseq):\n",
    "    maxlen = max([len(txt) for txt in iseq])\n",
    "    print(maxlen)\n",
    "    target_seq = pad_sequences(iseq, maxlen=maxlen, padding='post', value=0)\n",
    "    return to_categorical(target_seq,num_classes=num_target_tokens)"
   ]
  },
  {
   "cell_type": "code",
   "execution_count": 17,
   "id": "c8c95169",
   "metadata": {
    "colab": {
     "base_uri": "https://localhost:8080/"
    },
    "execution": {
     "iopub.execute_input": "2024-11-02T15:44:50.951444Z",
     "iopub.status.busy": "2024-11-02T15:44:50.951118Z",
     "iopub.status.idle": "2024-11-02T15:44:53.747464Z",
     "shell.execute_reply": "2024-11-02T15:44:53.746666Z",
     "shell.execute_reply.started": "2024-11-02T15:44:50.951413Z"
    },
    "id": "963ef12f-b2f6-4256-98f5-00e842bb1659",
    "outputId": "5a0eb791-d511-426c-a46e-3bea4dc65454"
   },
   "outputs": [
    {
     "name": "stdout",
     "output_type": "stream",
     "text": [
      "1632\n",
      "1632\n"
     ]
    }
   ],
   "source": [
    "# Apply transformations to input and target sequences\n",
    "X = trans_seq_in(encoded_seqs)\n",
    "Y = trans_seq_out(encoded_sst8)"
   ]
  },
  {
   "cell_type": "markdown",
   "id": "d807360b-1b04-47ca-b080-9b727838f66e",
   "metadata": {},
   "source": [
    "# Train, Validation, and Test Split"
   ]
  },
  {
   "cell_type": "markdown",
   "id": "28106d4d-900e-4920-a38a-df526285748e",
   "metadata": {},
   "source": [
    "We split the dataset into training, validation, and test sets."
   ]
  },
  {
   "cell_type": "code",
   "execution_count": 18,
   "id": "258804c9",
   "metadata": {
    "execution": {
     "iopub.execute_input": "2024-11-02T15:44:53.748927Z",
     "iopub.status.busy": "2024-11-02T15:44:53.748605Z",
     "iopub.status.idle": "2024-11-02T15:44:55.022919Z",
     "shell.execute_reply": "2024-11-02T15:44:55.021847Z",
     "shell.execute_reply.started": "2024-11-02T15:44:53.748893Z"
    },
    "id": "1e4d462e-082d-4ee0-b1e5-c5df12492a5c"
   },
   "outputs": [],
   "source": [
    "# Split data into train, val and test\n",
    "X_train, X_test, y_train, y_test = train_test_split(X, Y, test_size=0.2, random_state=42)\n",
    "X_val, X_test, y_val, y_test = train_test_split(X_test, y_test, test_size=0.1, random_state=42)"
   ]
  },
  {
   "cell_type": "code",
   "execution_count": 19,
   "id": "04c12e81",
   "metadata": {
    "colab": {
     "base_uri": "https://localhost:8080/"
    },
    "execution": {
     "iopub.execute_input": "2024-11-02T15:44:55.024394Z",
     "iopub.status.busy": "2024-11-02T15:44:55.024070Z",
     "iopub.status.idle": "2024-11-02T15:44:55.031281Z",
     "shell.execute_reply": "2024-11-02T15:44:55.030279Z",
     "shell.execute_reply.started": "2024-11-02T15:44:55.024360Z"
    },
    "id": "39c3ee45-14f7-4888-a77c-d7ed71177691",
    "outputId": "25b52bc1-3c88-4d10-ce34-f2915e8feae3"
   },
   "outputs": [
    {
     "data": {
      "text/plain": [
       "((7262, 1632, 22),\n",
       " (7262, 1632, 9),\n",
       " (1634, 1632, 22),\n",
       " (1634, 1632, 9),\n",
       " (182, 1632, 22),\n",
       " (182, 1632, 9))"
      ]
     },
     "execution_count": 19,
     "metadata": {},
     "output_type": "execute_result"
    }
   ],
   "source": [
    "X_train.shape, y_train.shape, X_val.shape, y_val.shape, X_test.shape, y_test.shape"
   ]
  },
  {
   "cell_type": "markdown",
   "id": "6c68fcc5",
   "metadata": {
    "id": "f9546968-0953-4620-8d5a-5b992150e349"
   },
   "source": [
    "# Define Custom Dataset and DataLoader for PyTorch"
   ]
  },
  {
   "cell_type": "code",
   "execution_count": 20,
   "id": "51113172",
   "metadata": {
    "execution": {
     "iopub.execute_input": "2024-11-02T15:44:55.032795Z",
     "iopub.status.busy": "2024-11-02T15:44:55.032499Z",
     "iopub.status.idle": "2024-11-02T15:44:55.093725Z",
     "shell.execute_reply": "2024-11-02T15:44:55.092681Z",
     "shell.execute_reply.started": "2024-11-02T15:44:55.032764Z"
    }
   },
   "outputs": [
    {
     "name": "stdout",
     "output_type": "stream",
     "text": [
      "Using device: cuda\n"
     ]
    }
   ],
   "source": [
    "# Define device\n",
    "device = torch.device('cuda' if torch.cuda.is_available() else 'cpu')\n",
    "print(f\"Using device: {device}\")"
   ]
  },
  {
   "cell_type": "code",
   "execution_count": 21,
   "id": "25ac9e85",
   "metadata": {
    "execution": {
     "iopub.execute_input": "2024-11-02T15:44:55.095240Z",
     "iopub.status.busy": "2024-11-02T15:44:55.094938Z",
     "iopub.status.idle": "2024-11-02T15:44:55.102789Z",
     "shell.execute_reply": "2024-11-02T15:44:55.101834Z",
     "shell.execute_reply.started": "2024-11-02T15:44:55.095194Z"
    }
   },
   "outputs": [],
   "source": [
    "# Define a custom dataset class for PyTorch\n",
    "class SequenceDataset(Dataset):\n",
    "    def __init__(self, X, y):\n",
    "        self.X = X\n",
    "        self.y = y\n",
    "\n",
    "    def __len__(self):\n",
    "        return len(self.X)\n",
    "\n",
    "    def __getitem__(self, idx):\n",
    "        return torch.tensor(self.X[idx], dtype=torch.float32), torch.tensor(self.y[idx], dtype=torch.float32)"
   ]
  },
  {
   "cell_type": "markdown",
   "id": "cdc4a2a0-94e9-450e-a261-04c7dc5502b9",
   "metadata": {},
   "source": [
    "This custom dataset class enables the use of PyTorch's DataLoader to handle batches efficiently."
   ]
  },
  {
   "cell_type": "code",
   "execution_count": 22,
   "id": "dd2edf38",
   "metadata": {
    "execution": {
     "iopub.execute_input": "2024-11-02T15:44:55.104005Z",
     "iopub.status.busy": "2024-11-02T15:44:55.103749Z",
     "iopub.status.idle": "2024-11-02T15:44:55.114189Z",
     "shell.execute_reply": "2024-11-02T15:44:55.113358Z",
     "shell.execute_reply.started": "2024-11-02T15:44:55.103976Z"
    }
   },
   "outputs": [],
   "source": [
    "# Create DataLoaders\n",
    "train_dataset = SequenceDataset(X_train, y_train)\n",
    "val_dataset = SequenceDataset(X_val, y_val)\n",
    "test_dataset = SequenceDataset(X_test, y_test)\n",
    "\n",
    "train_loader = DataLoader(train_dataset, batch_size=64, shuffle=True)\n",
    "val_loader = DataLoader(val_dataset, batch_size=64, shuffle=False)\n",
    "test_loader = DataLoader(test_dataset, batch_size=64, shuffle=False)"
   ]
  },
  {
   "cell_type": "markdown",
   "id": "f754fc1a-1f1c-4e14-ac1c-ed392c718187",
   "metadata": {},
   "source": [
    "# Seq2Seq Model"
   ]
  },
  {
   "cell_type": "code",
   "execution_count": 23,
   "id": "5e67a9fd",
   "metadata": {
    "execution": {
     "iopub.execute_input": "2024-11-02T15:44:55.115450Z",
     "iopub.status.busy": "2024-11-02T15:44:55.115167Z",
     "iopub.status.idle": "2024-11-02T15:44:55.123445Z",
     "shell.execute_reply": "2024-11-02T15:44:55.122682Z",
     "shell.execute_reply.started": "2024-11-02T15:44:55.115420Z"
    }
   },
   "outputs": [],
   "source": [
    "# Define the Seq2Seq model architecture\n",
    "class Seq2SeqModel(nn.Module):\n",
    "    def __init__(self, input_size, output_size, hidden_size=100):\n",
    "        super(Seq2SeqModel, self).__init__()\n",
    "        # Bidirectional LSTM layer\n",
    "        self.lstm = nn.LSTM(input_size, hidden_size, batch_first=True, bidirectional=True)\n",
    "        # Fully connected layer to predict secondary structure\n",
    "        self.dense = nn.Linear(hidden_size * 2, output_size)  # *2 for bidirectional\n",
    "\n",
    "    def forward(self, x):\n",
    "        x, _ = self.lstm(x)\n",
    "        x = self.dense(x)\n",
    "        return x"
   ]
  },
  {
   "cell_type": "markdown",
   "id": "1b009356-b7b1-408e-ac59-ef419a249294",
   "metadata": {},
   "source": [
    "# Training the Model with Early Stopping"
   ]
  },
  {
   "cell_type": "markdown",
   "id": "02cd394f-710d-412d-b6d4-249c3d5abbf3",
   "metadata": {},
   "source": [
    "To prevent overfitting, we use early stopping with `patience` = 3."
   ]
  },
  {
   "cell_type": "code",
   "execution_count": 24,
   "id": "85bce8c5",
   "metadata": {
    "execution": {
     "iopub.execute_input": "2024-11-02T15:44:55.124674Z",
     "iopub.status.busy": "2024-11-02T15:44:55.124392Z",
     "iopub.status.idle": "2024-11-02T15:44:56.184372Z",
     "shell.execute_reply": "2024-11-02T15:44:56.183165Z",
     "shell.execute_reply.started": "2024-11-02T15:44:55.124644Z"
    }
   },
   "outputs": [],
   "source": [
    "# Initialize model\n",
    "num_input_tokens = len(aa_to_idx)\n",
    "num_target_tokens = len(sst8_to_idx)\n",
    "model = Seq2SeqModel(num_input_tokens, num_target_tokens)\n",
    "model = model.to(device)\n",
    "\n",
    "# Define loss function and optimizer\n",
    "criterion = nn.CrossEntropyLoss()\n",
    "optimizer = optim.Adam(model.parameters(), lr=0.001)\n",
    "\n",
    "# Early stopping parameters\n",
    "patience = 3\n",
    "best_val_loss = float('inf')\n",
    "patience_counter = 0"
   ]
  },
  {
   "cell_type": "code",
   "execution_count": 25,
   "id": "df87809d",
   "metadata": {
    "execution": {
     "iopub.execute_input": "2024-11-02T15:44:56.186877Z",
     "iopub.status.busy": "2024-11-02T15:44:56.186061Z",
     "iopub.status.idle": "2024-11-02T15:44:56.192797Z",
     "shell.execute_reply": "2024-11-02T15:44:56.191671Z",
     "shell.execute_reply.started": "2024-11-02T15:44:56.186825Z"
    }
   },
   "outputs": [],
   "source": [
    "# Initialize lists to store metrics\n",
    "train_losses = []\n",
    "val_losses = []\n",
    "train_accuracies = []\n",
    "val_accuracies = []"
   ]
  },
  {
   "cell_type": "code",
   "execution_count": 26,
   "id": "dadeff1c",
   "metadata": {
    "execution": {
     "iopub.execute_input": "2024-11-02T15:44:56.194619Z",
     "iopub.status.busy": "2024-11-02T15:44:56.194280Z",
     "iopub.status.idle": "2024-11-02T15:52:46.069553Z",
     "shell.execute_reply": "2024-11-02T15:52:46.068524Z",
     "shell.execute_reply.started": "2024-11-02T15:44:56.194581Z"
    }
   },
   "outputs": [
    {
     "name": "stdout",
     "output_type": "stream",
     "text": [
      "Epoch 1/50, Train Loss: 0.6008, Train Acc: 0.1481, Val Loss: 0.2568, Val Acc: 0.3202\n",
      "Epoch 2/50, Train Loss: 0.2604, Train Acc: 0.3130, Val Loss: 0.2477, Val Acc: 0.3198\n",
      "Epoch 3/50, Train Loss: 0.2372, Train Acc: 0.3922, Val Loss: 0.2283, Val Acc: 0.4332\n",
      "Epoch 4/50, Train Loss: 0.2235, Train Acc: 0.4361, Val Loss: 0.2201, Val Acc: 0.4462\n",
      "Epoch 5/50, Train Loss: 0.2174, Train Acc: 0.4514, Val Loss: 0.2144, Val Acc: 0.4664\n",
      "Epoch 6/50, Train Loss: 0.2112, Train Acc: 0.4747, Val Loss: 0.2086, Val Acc: 0.4856\n",
      "Epoch 7/50, Train Loss: 0.2066, Train Acc: 0.4891, Val Loss: 0.2048, Val Acc: 0.4960\n",
      "Epoch 8/50, Train Loss: 0.2035, Train Acc: 0.4979, Val Loss: 0.2017, Val Acc: 0.5058\n",
      "Epoch 9/50, Train Loss: 0.2003, Train Acc: 0.5072, Val Loss: 0.1989, Val Acc: 0.5128\n",
      "Epoch 10/50, Train Loss: 0.1982, Train Acc: 0.5134, Val Loss: 0.1972, Val Acc: 0.5176\n",
      "Epoch 11/50, Train Loss: 0.1970, Train Acc: 0.5151, Val Loss: 0.1968, Val Acc: 0.5170\n",
      "Epoch 12/50, Train Loss: 0.1952, Train Acc: 0.5200, Val Loss: 0.1955, Val Acc: 0.5201\n",
      "Epoch 13/50, Train Loss: 0.1945, Train Acc: 0.5218, Val Loss: 0.1941, Val Acc: 0.5249\n",
      "Epoch 14/50, Train Loss: 0.1940, Train Acc: 0.5240, Val Loss: 0.1946, Val Acc: 0.5234\n",
      "Epoch 15/50, Train Loss: 0.1926, Train Acc: 0.5264, Val Loss: 0.1932, Val Acc: 0.5270\n",
      "Epoch 16/50, Train Loss: 0.1921, Train Acc: 0.5275, Val Loss: 0.1917, Val Acc: 0.5314\n",
      "Epoch 17/50, Train Loss: 0.1912, Train Acc: 0.5301, Val Loss: 0.1921, Val Acc: 0.5300\n",
      "Epoch 18/50, Train Loss: 0.1904, Train Acc: 0.5325, Val Loss: 0.1905, Val Acc: 0.5343\n",
      "Epoch 19/50, Train Loss: 0.1905, Train Acc: 0.5320, Val Loss: 0.1900, Val Acc: 0.5345\n",
      "Epoch 20/50, Train Loss: 0.1896, Train Acc: 0.5348, Val Loss: 0.1918, Val Acc: 0.5267\n",
      "Epoch 21/50, Train Loss: 0.1887, Train Acc: 0.5364, Val Loss: 0.1892, Val Acc: 0.5360\n",
      "Epoch 22/50, Train Loss: 0.1881, Train Acc: 0.5385, Val Loss: 0.1894, Val Acc: 0.5367\n",
      "Epoch 23/50, Train Loss: 0.1883, Train Acc: 0.5375, Val Loss: 0.1885, Val Acc: 0.5385\n",
      "Epoch 24/50, Train Loss: 0.1871, Train Acc: 0.5412, Val Loss: 0.1891, Val Acc: 0.5369\n",
      "Epoch 25/50, Train Loss: 0.1865, Train Acc: 0.5427, Val Loss: 0.1870, Val Acc: 0.5425\n",
      "Epoch 26/50, Train Loss: 0.1858, Train Acc: 0.5453, Val Loss: 0.1874, Val Acc: 0.5401\n",
      "Epoch 27/50, Train Loss: 0.1851, Train Acc: 0.5466, Val Loss: 0.1868, Val Acc: 0.5416\n",
      "Epoch 28/50, Train Loss: 0.1851, Train Acc: 0.5469, Val Loss: 0.1857, Val Acc: 0.5458\n",
      "Epoch 29/50, Train Loss: 0.1838, Train Acc: 0.5506, Val Loss: 0.1839, Val Acc: 0.5508\n",
      "Epoch 30/50, Train Loss: 0.1823, Train Acc: 0.5557, Val Loss: 0.1832, Val Acc: 0.5538\n",
      "Epoch 31/50, Train Loss: 0.1817, Train Acc: 0.5573, Val Loss: 0.1821, Val Acc: 0.5564\n",
      "Epoch 32/50, Train Loss: 0.1803, Train Acc: 0.5609, Val Loss: 0.1819, Val Acc: 0.5567\n",
      "Epoch 33/50, Train Loss: 0.1796, Train Acc: 0.5627, Val Loss: 0.1809, Val Acc: 0.5604\n",
      "Epoch 34/50, Train Loss: 0.1787, Train Acc: 0.5648, Val Loss: 0.1796, Val Acc: 0.5639\n",
      "Epoch 35/50, Train Loss: 0.1783, Train Acc: 0.5662, Val Loss: 0.1803, Val Acc: 0.5607\n",
      "Epoch 36/50, Train Loss: 0.1777, Train Acc: 0.5675, Val Loss: 0.1791, Val Acc: 0.5648\n",
      "Epoch 37/50, Train Loss: 0.1769, Train Acc: 0.5701, Val Loss: 0.1778, Val Acc: 0.5685\n",
      "Epoch 38/50, Train Loss: 0.1765, Train Acc: 0.5714, Val Loss: 0.1776, Val Acc: 0.5688\n",
      "Epoch 39/50, Train Loss: 0.1763, Train Acc: 0.5719, Val Loss: 0.1779, Val Acc: 0.5685\n",
      "Epoch 40/50, Train Loss: 0.1759, Train Acc: 0.5730, Val Loss: 0.1770, Val Acc: 0.5705\n",
      "Epoch 41/50, Train Loss: 0.1755, Train Acc: 0.5736, Val Loss: 0.1768, Val Acc: 0.5710\n",
      "Epoch 42/50, Train Loss: 0.1750, Train Acc: 0.5747, Val Loss: 0.1777, Val Acc: 0.5678\n",
      "Epoch 43/50, Train Loss: 0.1745, Train Acc: 0.5759, Val Loss: 0.1772, Val Acc: 0.5703\n",
      "Epoch 44/50, Train Loss: 0.1746, Train Acc: 0.5760, Val Loss: 0.1764, Val Acc: 0.5719\n",
      "Epoch 45/50, Train Loss: 0.1742, Train Acc: 0.5769, Val Loss: 0.1760, Val Acc: 0.5729\n",
      "Epoch 46/50, Train Loss: 0.1741, Train Acc: 0.5772, Val Loss: 0.1755, Val Acc: 0.5745\n",
      "Epoch 47/50, Train Loss: 0.1736, Train Acc: 0.5786, Val Loss: 0.1758, Val Acc: 0.5733\n",
      "Epoch 48/50, Train Loss: 0.1736, Train Acc: 0.5783, Val Loss: 0.1751, Val Acc: 0.5756\n",
      "Epoch 49/50, Train Loss: 0.1729, Train Acc: 0.5797, Val Loss: 0.1751, Val Acc: 0.5761\n",
      "Epoch 50/50, Train Loss: 0.1726, Train Acc: 0.5808, Val Loss: 0.1748, Val Acc: 0.5766\n"
     ]
    }
   ],
   "source": [
    "# Training loop\n",
    "num_epochs = 50\n",
    "for epoch in range(num_epochs):\n",
    "    model.train() # Set model to training mode\n",
    "    total_loss = 0\n",
    "    correct_train = 0\n",
    "    total_train = 0\n",
    "    \n",
    "    for inputs, targets in train_loader:\n",
    "        inputs = inputs.to(device)\n",
    "        targets = targets.to(device)\n",
    "\n",
    "        # Forward pass\n",
    "        optimizer.zero_grad()\n",
    "        outputs = model(inputs)\n",
    "        outputs = outputs.view(-1, num_target_tokens)\n",
    "        targets = targets.view(-1, num_target_tokens)\n",
    "        \n",
    "        # Calculate loss and backpropagate\n",
    "        loss = criterion(outputs, targets.argmax(dim=-1).view(-1))\n",
    "        loss.backward()\n",
    "        optimizer.step()\n",
    "        \n",
    "        total_loss += loss.item()\n",
    "        \n",
    "        # Calculate training accuracy ignoring padding\n",
    "        _, predicted = torch.max(outputs, dim=1)\n",
    "        target_classes = targets.argmax(dim=-1).view(-1)\n",
    "        valid_indices = target_classes != padding_index  # Mask for non-padding indices\n",
    "        \n",
    "        correct_train += (predicted[valid_indices] == target_classes[valid_indices]).sum().item()\n",
    "        total_train += valid_indices.sum().item()  # Count only valid predictions\n",
    "\n",
    "    # Compute average loss and accuracy for the epoch\n",
    "    avg_loss = total_loss / len(train_loader)\n",
    "    train_acc = correct_train / total_train if total_train > 0 else 0  # Prevent division by zero\n",
    "    train_losses.append(avg_loss)\n",
    "    train_accuracies.append(train_acc)\n",
    "    \n",
    "    # Validation step\n",
    "    model.eval() # Set model to evaluation mode\n",
    "    val_loss = 0\n",
    "    correct_val = 0\n",
    "    total_val = 0\n",
    "    with torch.no_grad():\n",
    "        for inputs, targets in val_loader:\n",
    "            inputs = inputs.to(device)\n",
    "            targets = targets.to(device)\n",
    "            \n",
    "            outputs = model(inputs)\n",
    "            outputs = outputs.view(-1, num_target_tokens)\n",
    "            targets = targets.view(-1, num_target_tokens)\n",
    "            loss = criterion(outputs, targets.argmax(dim=-1).view(-1))\n",
    "            val_loss += loss.item()\n",
    "            \n",
    "            # Calculate validation accuracy ignoring padding\n",
    "            _, predicted = torch.max(outputs, dim=1)\n",
    "            target_classes = targets.argmax(dim=-1).view(-1)\n",
    "            valid_indices = target_classes != padding_index  # Mask for non-padding indices\n",
    "            \n",
    "            correct_val += (predicted[valid_indices] == target_classes[valid_indices]).sum().item()\n",
    "            total_val += valid_indices.sum().item()  # Count only valid predictions\n",
    "\n",
    "    # Calculate and store validation metrics\n",
    "    avg_val_loss = val_loss / len(val_loader)\n",
    "    val_acc = correct_val / total_val if total_val > 0 else 0  # Prevent division by zero\n",
    "    val_losses.append(avg_val_loss)\n",
    "    val_accuracies.append(val_acc)\n",
    "\n",
    "    # Display training and validation metrics for the epoch\n",
    "    print(f'Epoch {epoch + 1}/{num_epochs}, Train Loss: {avg_loss:.4f}, Train Acc: {train_acc:.4f}, Val Loss: {avg_val_loss:.4f}, Val Acc: {val_acc:.4f}')\n",
    "    \n",
    "    # Early stopping logic\n",
    "    if avg_val_loss < best_val_loss:\n",
    "        best_val_loss = avg_val_loss\n",
    "        patience_counter = 0\n",
    "        # Save the best model\n",
    "        torch.save(model.state_dict(), 'best_model.pth')\n",
    "    else:\n",
    "        patience_counter += 1\n",
    "        if patience_counter >= patience:\n",
    "            print(\"Early stopping triggered.\")\n",
    "            break"
   ]
  },
  {
   "cell_type": "code",
   "execution_count": 27,
   "id": "15e04761",
   "metadata": {
    "execution": {
     "iopub.execute_input": "2024-11-02T15:52:46.071843Z",
     "iopub.status.busy": "2024-11-02T15:52:46.071112Z",
     "iopub.status.idle": "2024-11-02T15:52:46.709892Z",
     "shell.execute_reply": "2024-11-02T15:52:46.708860Z",
     "shell.execute_reply.started": "2024-11-02T15:52:46.071806Z"
    }
   },
   "outputs": [
    {
     "data": {
      "image/png": "[encoded data removed]",
      "text/plain": [
       "<Figure size 1200x500 with 2 Axes>"
      ]
     },
     "metadata": {},
     "output_type": "display_data"
    }
   ],
   "source": [
    "# Plotting the training and validation metrics\n",
    "plt.figure(figsize=(12, 5))\n",
    "\n",
    "# Plot for Loss\n",
    "plt.subplot(1, 2, 1)\n",
    "plt.plot(train_losses, label='Train Loss', color='blue')\n",
    "plt.plot(val_losses, label='Validation Loss', color='orange')\n",
    "plt.title('Train and Validation Loss')\n",
    "plt.xlabel('Epochs')\n",
    "plt.ylabel('Loss')\n",
    "plt.legend()\n",
    "\n",
    "# Plot for Accuracy\n",
    "plt.subplot(1, 2, 2)\n",
    "plt.plot(train_accuracies, label='Train Accuracy', color='green')\n",
    "plt.plot(val_accuracies, label='Validation Accuracy', color='red')\n",
    "plt.title('Train and Validation Accuracy')\n",
    "plt.xlabel('Epochs')\n",
    "plt.ylabel('Accuracy')\n",
    "plt.legend()\n",
    "\n",
    "plt.tight_layout()\n",
    "plt.show()"
   ]
  },
  {
   "cell_type": "markdown",
   "id": "999a3575-1bee-4794-9c13-b70b18b3387b",
   "metadata": {},
   "source": [
    "# Test and Evaluate Model Performance"
   ]
  },
  {
   "cell_type": "markdown",
   "id": "7d9547d6-76fe-4a83-a080-d26a926f4064",
   "metadata": {},
   "source": [
    "\n",
    "Finally, we load the best model from training and evaluate its accuracy on the test set."
   ]
  },
  {
   "cell_type": "code",
   "execution_count": 28,
   "id": "73f3e419",
   "metadata": {
    "execution": {
     "iopub.execute_input": "2024-11-02T15:52:46.711689Z",
     "iopub.status.busy": "2024-11-02T15:52:46.711251Z",
     "iopub.status.idle": "2024-11-02T15:52:46.720725Z",
     "shell.execute_reply": "2024-11-02T15:52:46.719696Z",
     "shell.execute_reply.started": "2024-11-02T15:52:46.711640Z"
    }
   },
   "outputs": [],
   "source": [
    "# Evaluation function\n",
    "def evaluate_model(model, test_loader, padding_index=0):\n",
    "    model.eval()\n",
    "    test_loss = 0\n",
    "    correct_test = 0\n",
    "    total_test = 0\n",
    "    with torch.no_grad():\n",
    "        for inputs, targets in test_loader:\n",
    "            inputs = inputs.to(device)\n",
    "            targets = targets.to(device)\n",
    "\n",
    "            outputs = model(inputs)\n",
    "            outputs = outputs.view(-1, num_target_tokens)\n",
    "            targets = targets.view(-1, num_target_tokens)\n",
    "\n",
    "            # Calculate loss ignoring padding\n",
    "            loss = criterion(outputs, targets.argmax(dim=-1).view(-1))\n",
    "            test_loss += loss.item()\n",
    "\n",
    "            # Calculate predictions and create a mask for valid indices\n",
    "            _, predicted = torch.max(outputs, dim=1)\n",
    "            target_classes = targets.argmax(dim=-1).view(-1)\n",
    "            valid_indices = target_classes != padding_index  # Mask for non-padding indices\n",
    "\n",
    "            # Calculate correct predictions ignoring padding\n",
    "            correct_test += (predicted[valid_indices] == target_classes[valid_indices]).sum().item()\n",
    "            total_test += valid_indices.sum().item()  # Count only valid predictions\n",
    "\n",
    "    # Calculate and display the final test accuracy and loss\n",
    "    avg_test_loss = test_loss / len(test_loader)\n",
    "    test_acc = correct_test / total_test if total_test > 0 else 0  # Prevent division by zero\n",
    "\n",
    "    return avg_test_loss, test_acc"
   ]
  },
  {
   "cell_type": "code",
   "execution_count": 29,
   "id": "933f0c09",
   "metadata": {
    "execution": {
     "iopub.execute_input": "2024-11-02T15:52:46.721923Z",
     "iopub.status.busy": "2024-11-02T15:52:46.721622Z",
     "iopub.status.idle": "2024-11-02T15:52:46.841576Z",
     "shell.execute_reply": "2024-11-02T15:52:46.840565Z",
     "shell.execute_reply.started": "2024-11-02T15:52:46.721878Z"
    }
   },
   "outputs": [
    {
     "name": "stdout",
     "output_type": "stream",
     "text": [
      "Test Loss: 0.1812, Test Acc: 0.5690\n"
     ]
    },
    {
     "name": "stderr",
     "output_type": "stream",
     "text": [
      "/tmp/ipykernel_129/2355148434.py:2: FutureWarning: You are using `torch.load` with `weights_only=False` (the current default value), which uses the default pickle module implicitly. It is possible to construct malicious pickle data which will execute arbitrary code during unpickling (See https://github.com/pytorch/pytorch/blob/main/SECURITY.md#untrusted-models for more details). In a future release, the default value for `weights_only` will be flipped to `True`. This limits the functions that could be executed during unpickling. Arbitrary objects will no longer be allowed to be loaded via this mode unless they are explicitly allowlisted by the user via `torch.serialization.add_safe_globals`. We recommend you start setting `weights_only=True` for any use case where you don't have full control of the loaded file. Please open an issue on GitHub for any issues related to this experimental feature.\n",
      "  model.load_state_dict(torch.load('best_model.pth'))\n"
     ]
    }
   ],
   "source": [
    "# Load the best model\n",
    "model.load_state_dict(torch.load('best_model.pth'))\n",
    "\n",
    "# Evaluate on test set\n",
    "test_loss, test_acc = evaluate_model(model, test_loader)\n",
    "print(f'Test Loss: {test_loss:.4f}, Test Acc: {test_acc:.4f}')"
   ]
  },
  {
   "cell_type": "code",
   "execution_count": 30,
   "id": "ad4efa51",
   "metadata": {
    "execution": {
     "iopub.execute_input": "2024-11-02T15:52:46.843387Z",
     "iopub.status.busy": "2024-11-02T15:52:46.842982Z",
     "iopub.status.idle": "2024-11-02T15:52:46.853992Z",
     "shell.execute_reply": "2024-11-02T15:52:46.852987Z",
     "shell.execute_reply.started": "2024-11-02T15:52:46.843341Z"
    }
   },
   "outputs": [],
   "source": [
    "# Helper function to convert one-hot encoded sequence back to a string\n",
    "def onehot_to_seq(oh_seq, index):\n",
    "    s = ''\n",
    "    for o in oh_seq:\n",
    "        i = np.argmax(o)\n",
    "        if i != 0:  # Ignore padding\n",
    "            s += index[i]\n",
    "        else:\n",
    "            break\n",
    "    return s\n",
    "\n",
    "# Function to plot actual and predicted sequences side by side for comparison\n",
    "def plot_results(x, y, y_, aa_to_idx, sst8_to_idx):\n",
    "    # Reverse mappings for amino acids and sst8 structures\n",
    "    reverse_aa_idx = {idx: aa for aa, idx in aa_to_idx.items()}\n",
    "    reverse_sst8_idx = {idx: ss for ss, idx in sst8_to_idx.items()}\n",
    "    \n",
    "    print(\"---\")\n",
    "    print(\"Input Sequence: \" + onehot_to_seq(x, reverse_aa_idx))\n",
    "    print(\"Target Sequence: \" + onehot_to_seq(y, reverse_sst8_idx))\n",
    "    print(\"Predicted Sequence: \" + onehot_to_seq(y_, reverse_sst8_idx))\n",
    "\n",
    "    fig = plt.figure(figsize=(20, 10))\n",
    "    \n",
    "    # Plot the actual target sequence in blue\n",
    "    plt.imshow(y.T, cmap='Blues')\n",
    "    # Overlay the predicted sequence in red\n",
    "    plt.imshow(y_.T, cmap='Reds', alpha=0.5)\n",
    "    \n",
    "    # Set y-ticks with corresponding labels for secondary structure states\n",
    "    plt.yticks(range(len(sst8_to_idx) - 1), [reverse_sst8_idx[i + 1] for i in range(len(sst8_to_idx) - 1)])\n",
    "    plt.xlabel('Position in Sequence')\n",
    "    plt.title('Actual vs. Predicted Sequence (Blue: Actual, Red: Predicted)')\n",
    "    plt.show()"
   ]
  },
  {
   "cell_type": "code",
   "execution_count": 31,
   "id": "7a09f7bb",
   "metadata": {
    "execution": {
     "iopub.execute_input": "2024-11-02T15:52:46.855560Z",
     "iopub.status.busy": "2024-11-02T15:52:46.855215Z",
     "iopub.status.idle": "2024-11-02T15:52:46.868384Z",
     "shell.execute_reply": "2024-11-02T15:52:46.867433Z",
     "shell.execute_reply.started": "2024-11-02T15:52:46.855468Z"
    }
   },
   "outputs": [],
   "source": [
    "# Define maximum sequence length for plotting\n",
    "MAX_SEQ_LENGTH = 256\n",
    "\n",
    "# Function to plot actual and predicted sequences side by side for comparison\n",
    "def plot_results(x, y, y_, aa_to_idx, sst8_to_idx):\n",
    "    # Reverse mappings for amino acids and sst8 structures\n",
    "    reverse_aa_idx = {idx: aa for aa, idx in aa_to_idx.items()}\n",
    "    reverse_sst8_idx = {idx: ss for ss, idx in sst8_to_idx.items()}\n",
    "\n",
    "    # Convert sequences to strings\n",
    "    input_seq = onehot_to_seq(x, reverse_aa_idx)[:MAX_SEQ_LENGTH]\n",
    "    target_seq = onehot_to_seq(y, reverse_sst8_idx)[:MAX_SEQ_LENGTH]\n",
    "    predicted_seq = onehot_to_seq(y_, reverse_sst8_idx)[:MAX_SEQ_LENGTH]\n",
    "\n",
    "    print(\"---\")\n",
    "    print(\"Input Sequence: \" + input_seq)\n",
    "    print(\"Target Sequence: \" + target_seq)\n",
    "    print(\"Predicted Sequence: \" + predicted_seq)\n",
    "\n",
    "    # Truncate sequences to the maximum length for plotting\n",
    "    x_truncated = x[:MAX_SEQ_LENGTH]\n",
    "    y_truncated = y[:MAX_SEQ_LENGTH]\n",
    "    y_reshaped = y_[:MAX_SEQ_LENGTH]\n",
    "\n",
    "    fig = plt.figure(figsize=(10, 2))\n",
    "\n",
    "    # Ensure y and y_ are in the right shape for imshow (2D)\n",
    "    y_reshaped = y_reshaped.T  # Transpose the predicted sequence\n",
    "    y_reshaped = np.expand_dims(y_reshaped, axis=0) if y_reshaped.ndim == 1 else y_reshaped\n",
    "\n",
    "    # Plot the actual target sequence in blue\n",
    "    plt.imshow(y_truncated.T, cmap='Blues')\n",
    "    # Overlay the predicted sequence in red\n",
    "    plt.imshow(y_reshaped, cmap='Reds', alpha=0.5)\n",
    "\n",
    "    # Set y-ticks with corresponding labels for secondary structure states\n",
    "    plt.yticks(range(len(sst8_to_idx) - 1), [reverse_sst8_idx[i + 1] for i in range(len(sst8_to_idx) - 1)])\n",
    "    plt.xlabel('Position in Sequence')\n",
    "    plt.title('Actual vs. Predicted Sequence (Blue: Actual, Red: Predicted)')\n",
    "    plt.show()"
   ]
  },
  {
   "cell_type": "markdown",
   "id": "9e37ccd9-b95c-4dc1-ac77-ff2e7d10d136",
   "metadata": {},
   "source": [
    "Now, we will use visualize the predictions of 5 testing samples. The predictions are shown in red and the ground truth are shwon in blue."
   ]
  },
  {
   "cell_type": "code",
   "execution_count": 35,
   "id": "83208e38",
   "metadata": {
    "execution": {
     "iopub.execute_input": "2024-11-02T15:55:39.280510Z",
     "iopub.status.busy": "2024-11-02T15:55:39.280082Z",
     "iopub.status.idle": "2024-11-02T15:55:40.517349Z",
     "shell.execute_reply": "2024-11-02T15:55:40.516425Z",
     "shell.execute_reply.started": "2024-11-02T15:55:39.280456Z"
    }
   },
   "outputs": [
    {
     "name": "stdout",
     "output_type": "stream",
     "text": [
      "Testing Results\n",
      "Sequence 1 Accuracy: 66.86%\n",
      "---\n",
      "Input Sequence: GMNLQTDQTTTTADESAIRAFHRQMIDAWNRGSGEGFAAPFSETADFITFEGTHLKGRKEIAAFHQQAFDTVVKGTRLEGEVDFVRFVNSQLALMLVVIRVILPGQTETSASRDSLPLYVVTKGDEGWQIEGLLNTRKLTLERQFFLDDFDSLSAEAQRQVTDLVASLKQSH\n",
      "Target Sequence: CCCCCCCCCCCHHHHHHHHHHHHHHHHHHHTTCHHHHHTTEEEEEEEECTTCCEEEHHHHHHHHHHHHHHTTTTTCEEEEEEEEEEEEETTEEEEEEEEEEECTTCSSBCGGGCBCCEEEEEEETTEEEEEEEECCBCCCHHHHHHHHHHHHSCHHHHHHHHHHHHHHTTCC\n",
      "Predicted Sequence: CCCCCCCCCCCCCCHHHHHHHHHHHHHHHHTTCCCCCCCCCCCCCCEEEEETCECHHHHHHHHHHHHHHHEEEETEEEETEEEEEEEHHHTEEEEEEEEEEECCCCCCCCCCHCCCCEEEEEETCTSEEEEEEHHHHHHHHHHHHHHCCHCCHCHHHHHHHHHHHHHHCCCC\n"
     ]
    },
    {
     "data": {
      "image/png": "[encoded data removed]",
      "text/plain": [
       "<Figure size 1000x200 with 1 Axes>"
      ]
     },
     "metadata": {},
     "output_type": "display_data"
    },
    {
     "name": "stdout",
     "output_type": "stream",
     "text": [
      "Sequence 2 Accuracy: 60.26%\n",
      "---\n",
      "Input Sequence: SNAMKTYIKRLNWEESIYLAINKLIAKHGKDNEAYNPDNKPFAVFDWDNTSIIGDVEEALLYYMVRNVSFKMDPEEFYELIRKNVDRKDYPKEFNNLDKQRVNIDLISQDIKRAYEKLYKNLDRFEGGKTLEEVQDTDYYQEFVSKMLYRYRASEFDPEAEDPYCWMSFLLKNYKTEEVYDLCKGAYASMKKERIRVEEFVSPDIKSEAGRISIKYFVGIRTLDEMVDLYRSLEENGIDCYIVSASFIDIVRAFAT\n",
      "Target Sequence: CCCCCCCSCCTTCCHHHHHHHHHHHHHHSTTSTTCCTTSEEEEEECCTTTTEESCHHHHHHHHHHHHTCCCCCHHHHHHHHHTTBCCSCCCGGGCCTTSCCCCHHHHHHHHHHHHHHHHHHBTTTTSCBCSGGGTTSHHHHHHHHHHHHHHHHCCBCTTSSSSCCSGGGGGTTCCHHHHHHHHHHHHHHHTTSCCEEEEEECCSSCCSSCCCEEEEEECCEECHHHHHHHHHHHHTTCEEEEEEEEEHHHHHHHHH\n",
      "Predicted Sequence: CCCCCCHEECCCHHHHHHHHHHHHHHHTCCCCHCCCTTSCCEEEECTTTTCEHHHHHHHHHHHHHHHCCCCCCHHHHHHHHHHTCCHTCCCHHHHCHHHHHCHHHHHHHHHHHHHHHHHHHHHHCTTCCCCHHHCCHHHHHHHHHHHHHHHHHCCCCTTCCCHHHHHHHHHHTCCHHHHHHHHHHHHHHHHHHCEHHEEECCHCHCHHTTCEEEEEEEHHHHHHHHHHHHHHHHHTTCCEEEEEHHHHHHHHHHHH\n"
     ]
    },
    {
     "data": {
      "image/png": "[encoded data removed]",
      "text/plain": [
       "<Figure size 1000x200 with 1 Axes>"
      ]
     },
     "metadata": {},
     "output_type": "display_data"
    },
    {
     "name": "stdout",
     "output_type": "stream",
     "text": [
      "Sequence 3 Accuracy: 60.62%\n",
      "---\n",
      "Input Sequence: RKLPVFKSLRHMRQVLGAPSFRMLAWHVLMGNQVIWKSRDVDLVQSAFEVLRTMLPVGCVRIIPYSSQYEEAYRCNFLGLSPHVQIPPHVLSSEFAVIVEVHAAARSTLHPVGAEDDQSLSKYEFVVTSGSPVAADRVGPTILNKIEAALTNQNLSVDVVDQALVALKEEWMNKVKVLFKFTKVDSRPKEDTQKLLSILGASEEDNVKLLKFWMTGLSKTYKSHLM\n",
      "Target Sequence: CCCCSCCCHHHHHHHHCHHHHHHHHHHHHTTCEEEEECSCHHHHHHHHHHHGGGSCGGGCCEEEEESSCCCTTTCSEEEECTTCCCCHHHHTCTTEEEEEEECCCCCCCCCCCCCCCCCCTTCEEEEEESSCTTTTSSCCHHHHHHHHHHHCTTSCHHHHHHHHHHHHHHHHHHHHHHHHHTCCCCCCHHHHHHHHHHTTCCSHHHHHHHHHHGGGTCCCCCCCCC\n",
      "Predicted Sequence: CCCCCCCCHHHHHHHHTCCCHHHHHHHHHHTCEEEEHCTCHHHHHHHHHHHHHHCCTTEEEEECCCSHHHHHHHHHHTTCCCTCCCCCGCCCHHHHHHEHHHHHHHHCCCCCCCCCCHCHCHHEEEEETSCHHHHHHHCHHHHHHHHHHHHHTTCCHHHHHHHHHHHHHHHHHHHHEEEEEEECCSCCCHCHHHHHHHHTCCCHHHHHHHHHHHHHHCHHHCCCCC\n"
     ]
    },
    {
     "data": {
      "image/png": "[encoded data removed]",
      "text/plain": [
       "<Figure size 1000x200 with 1 Axes>"
      ]
     },
     "metadata": {},
     "output_type": "display_data"
    },
    {
     "name": "stdout",
     "output_type": "stream",
     "text": [
      "Sequence 4 Accuracy: 53.57%\n",
      "---\n",
      "Input Sequence: GAASMEEPGAEEVRILFSTAKGESHTHKAGFKQLFRRLRSTYRPDKVDKDDFTLDTLRSAHILVLGGPKEKFTAPEVDMLKKFVKNGGSILILMSEGGEEKAGTNINYFLEQFGMSVNNDAVVRTTHYKYLHPKEVLISDGILNRAVITGAGKSLNSNDDDEFRVSRGPQAFDGTGLEYVFPFGATLSVQKPAVPVLSSGKIAYPMNRPVGAVWAQPGYGRIAVLGSCAMFDDKWLDKEENSKIMDFFFKFLEPHS\n",
      "Target Sequence: CCCCCCCCCCCCCEEEEECTTCCSSBTTTBCHHHHHHHTTTSEEEEECGGGCSHHHHHTCSEEEEESCCSCCCHHHHHHHHHHHHTTCEEEEECCTTHHHHHTCCTHHHHGGGTEEECSCCCEESSCCTTCCTTEEEESSCBCSGGGTCCCCCCCCCCCCCCTTCCCCCCCCCSCSCCEEEESCCCEEECTTSEEEEECCTTEESTTCEEEEEEECTTSCEEEEESCSGGGSTTTTTSTTHHHHHHHHHHHHSTTC\n",
      "Predicted Sequence: CCCCCCCCCCCCEEEEEECCTCCCCCHHHHHHHHHHHHHHTCCCCCCCTTCCHHHHHHHCEEEEECCCTGCCCCHHHHHHHHHHHTTCCEEEEEETSCCHHTTHHHHHHHHHHTCCEETCEEEEEEEEEEECCCEEEEETTEEEEEEEECTCCEECCCCTSEEEEEECCEECTTTEEEEEEETTCEEEEECCCCCEEETSEEEECTSCCCEEEEECTTTEEEEEEEEEEEECHTTCCHHHHHHHHHHHEHHCCTTC\n"
     ]
    },
    {
     "data": {
      "image/png": "[encoded data removed]",
      "text/plain": [
       "<Figure size 1000x200 with 1 Axes>"
      ]
     },
     "metadata": {},
     "output_type": "display_data"
    },
    {
     "name": "stdout",
     "output_type": "stream",
     "text": [
      "Sequence 5 Accuracy: 53.90%\n",
      "---\n",
      "Input Sequence: MASAELAKPLTLDQLQQQNGKAIDTRPSAFYNGWPQTLNGPSGHELAALNLSASWLDKMSTEQLNAWIKQHNLKTDAPVALYGNDKDVDAVKTRLQKAGLTHISILSDALSEPSRLQKLPHFEQLVYPQWLHDLQQGKEVTAKPAGDWKVIEAAWGAPKLYLISHIPGADYIDTNEVESEPLWNKVSDEQLKAMLAKHGIRHDTTVILYGRDVYAAARVAQIMLYAGVKDVRLLDGGWQTWSDAGLPVERGTPPKV\n",
      "Target Sequence: CCCCCCCSCBCHHHHHHTTCEEEECSCHHHHHTCCSSTTCCCSBCTTCEECCGGGGGGCCHHHHHHHHHHTTCCTTSCEEEESCHHHHHHHHHHHHHTTCCCEEEBTTTTSCGGGCBCCTTGGGEECHHHHHHHHTTCCCTTCCSSCEEEEEEESSSCSHHHHCBCTTCEEEEGGGTEETTTTEECCHHHHHHHHHHTTCCTTSEEEEECSSHHHHHHHHHHHHHHTCSCEEEETTTHHHHHHTTCCCBCSSCCCC\n",
      "Predicted Sequence: CCCCCCCCCCCHHHHHHHTCCCCCCCCCHHHTTCCHCCCCCCSHHHHHHHHHHHHHHHHHHHHHHHHHHHHTCCCSCCEEEECCCSCHHHHHHHHHHHTCCEEEEECCCCCCHHHHHHCCCCEEEHHHHHHHHHHTTCEEEECCTTCHHHHHHHHTCCEEEEEEECCTCGECCHCCCCCCCCCCHCCHHHHHHHHHHTTCCEEEEEEEECSHHHHHHHHHHHHHHHTCCEEEEEESSCCCCCHTTCCCCTCCCCCC\n"
     ]
    },
    {
     "data": {
      "image/png": "[encoded data removed]",
      "text/plain": [
       "<Figure size 1000x200 with 1 Axes>"
      ]
     },
     "metadata": {},
     "output_type": "display_data"
    }
   ],
   "source": [
    "# Set the model to evaluation mode\n",
    "model.eval()\n",
    "\n",
    "# Evaluate on a few test sequences\n",
    "N = 5  # Number of sequences to predict\n",
    "with torch.no_grad():  # Disable gradient calculation for inference\n",
    "    # Convert to PyTorch tensor and ensure it is on the correct device\n",
    "    X_test_tensor = torch.tensor(X_test[:N], dtype=torch.float32).to(device)  # Convert and move to device\n",
    "    y_test_pred = model(X_test_tensor)  # Get predictions\n",
    "\n",
    "# Convert the predictions to a more interpretable format\n",
    "y_test_pred = y_test_pred.cpu().numpy()  # Move predictions back to CPU if needed\n",
    "\n",
    "# Assuming y_test_pred is in one-hot format, convert to class indices\n",
    "predicted_classes = np.argmax(y_test_pred, axis=-1)  # Convert to class indices\n",
    "\n",
    "padding_index = 0\n",
    "\n",
    "# Calculate accuracy for each sequence\n",
    "accuracies = []\n",
    "print('Testing Results')\n",
    "for i in range(N):\n",
    "    # Calculate target classes\n",
    "    target_classes = np.argmax(y_test[i], axis=-1)  # Assuming y_test is also one-hot encoded\n",
    "    \n",
    "    # Create a mask for non-padding indices\n",
    "    valid_indices = target_classes != padding_index\n",
    "    \n",
    "    # Calculate correct predictions only for valid (non-padding) indices\n",
    "    correct_predictions = (predicted_classes[i][valid_indices] == target_classes[valid_indices])\n",
    "    \n",
    "    # Calculate accuracy based on valid predictions\n",
    "    accuracy = np.sum(correct_predictions) / len(correct_predictions)  # Calculate accuracy\n",
    "    accuracies.append(accuracy)  # Store accuracy\n",
    "\n",
    "    # Print accuracy\n",
    "    print(f'Sequence {i + 1} Accuracy: {accuracy:.2%}')  # Print accuracy as a percentage\n",
    "    plot_results(X_test[i], y_test[i], y_test_pred[i], aa_to_idx, sst8_to_idx)  # Use y_test_pred for visualization"
   ]
  },
  {
   "cell_type": "markdown",
   "id": "695a7b17-603d-41e1-8ea6-e1eff60f2506",
   "metadata": {},
   "source": [
    "# Conclusion"
   ]
  },
  {
   "cell_type": "markdown",
   "id": "bd18b2b9-ac78-4db3-b56e-eaaed28a2dc9",
   "metadata": {},
   "source": [
    "In this notebook, we implemented a bidirectional LSTM model to predict secondary protein structure (Q8). We trained the model, evaluated it, and applied early stopping to prevent overfitting. Overall, this project has demonstrated the potential of deep learning for bioinformatics applications, particularly in protein structure prediction. While our current model performs reasonably well, it also highlights the complexities of biological sequences and the need for more advanced architectures and techniques to fully capture these complexities."
   ]
  }
 ],
 "metadata": {
  "accelerator": "GPU",
  "colab": {
   "gpuType": "T4",
   "provenance": []
  },
  "kaggle": {
   "accelerator": "nvidiaTeslaT4",
   "dataSources": [
    {
     "datasetId": 5995703,
     "sourceId": 9785772,
     "sourceType": "datasetVersion"
    }
   ],
   "dockerImageVersionId": 30786,
   "isGpuEnabled": true,
   "isInternetEnabled": true,
   "language": "python",
   "sourceType": "notebook"
  },
  "kernelspec": {
   "display_name": "Python 3 (ipykernel)",
   "language": "python",
   "name": "python3"
  },
  "language_info": {
   "codemirror_mode": {
    "name": "ipython",
    "version": 3
   },
   "file_extension": ".py",
   "mimetype": "text/x-python",
   "name": "python",
   "nbconvert_exporter": "python",
   "pygments_lexer": "ipython3",
   "version": "3.12.4"
  }
 },
 "nbformat": 4,
 "nbformat_minor": 5
}
